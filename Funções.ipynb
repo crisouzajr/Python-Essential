{
 "cells": [
  {
   "cell_type": "markdown",
   "metadata": {},
   "source": [
    "# <font color = 'gold'> FUNÇÕES"
   ]
  },
  {
   "cell_type": "markdown",
   "metadata": {},
   "source": [
    "#### Formalmente, uma função é um dispositivo que agrupa um conjunto de instruções para que elas possam ser executadas mais de uma vez. Elas também podem nos permitir especificar parâmetros que possam servir como entradas para as funções.\n",
    "#### Em um nível mais fundamental, as funções nos permitem não ter que escrever o mesmo código repetidas vezes. \n",
    "#### Uma vez que verificar o comprimento de uma sequência é uma tarefa comum, você provavelmente vai querer escrever uma função que pode fazer isso repetidas vezes.\n",
    "#### As funções serão um dos níveis mais básicos de código de reutilização em Python, e também nos permitirá começar a pensar no design de programas."
   ]
  },
  {
   "cell_type": "markdown",
   "metadata": {},
   "source": [
    "## <font color = 'red'> def"
   ]
  },
  {
   "cell_type": "code",
   "execution_count": 1,
   "metadata": {},
   "outputs": [],
   "source": [
    "# Veremos como escrever a sintaxe de uma função em Python:\n",
    "\n",
    "def name_da_função(arg1,arg2):\n",
    "    '''\n",
    "    A documentação da função ficará aqui\n",
    "    '''\n",
    "    # Faça coisas por aqui\n",
    "    return # Retorne o resultado aqui"
   ]
  },
  {
   "cell_type": "markdown",
   "metadata": {},
   "source": [
    "#### Começamos com def, seguindo do nome da função , tente manter nomes relevantes, em seguida, vem um par de parênteses com vários argumentos separados por uma vírgula. Esses argumentos são as entradas para a função. É possível usar essas entradas na função e fazer referência a elas. Depois disso coloca-se dois pontos.\n",
    "#### Agora aqui é o passo importante, você deve identar para começar o código dentro de sua função corretamente. Python faz uso de espaço em branco para organizar o código. Muitas outras linguagens de programação fazem isso, então tenha isso em mente.\n",
    "#### Em seguida, você verá o doc-string, é aqui que você escreve uma descrição básica da função. Documentações não são necessárias para funções simples, mas é uma boa prática colocá-las para que você e outras pessoas possam facilmente entender o códico que você escreve.\n"
   ]
  },
  {
   "cell_type": "code",
   "execution_count": 2,
   "metadata": {},
   "outputs": [],
   "source": [
    "def say_hello():\n",
    " print('hello')"
   ]
  },
  {
   "cell_type": "code",
   "execution_count": 3,
   "metadata": {},
   "outputs": [
    {
     "name": "stdout",
     "output_type": "stream",
     "text": [
      "hello\n"
     ]
    }
   ],
   "source": [
    "# Nesse momento é importante chamar a função\n",
    "\n",
    "say_hello()"
   ]
  },
  {
   "cell_type": "code",
   "execution_count": 13,
   "metadata": {},
   "outputs": [],
   "source": [
    "# Vamos escrever uma função que comprimenta o nome\n",
    "\n",
    "def greating(name):\n",
    "    print('hello, %s' %name)\n",
    "          "
   ]
  },
  {
   "cell_type": "code",
   "execution_count": 14,
   "metadata": {},
   "outputs": [
    {
     "name": "stdout",
     "output_type": "stream",
     "text": [
      "hello, Cris\n"
     ]
    }
   ],
   "source": [
    "greating('Cris')"
   ]
  },
  {
   "cell_type": "markdown",
   "metadata": {},
   "source": [
    "## <font color = 'red'> return"
   ]
  },
  {
   "cell_type": "markdown",
   "metadata": {},
   "source": [
    "#### A instrução return permite que uma função retorne um resultado que pode ser armazenado em uma variável por exemplo, ou usado de qualquer outra maneira."
   ]
  },
  {
   "cell_type": "code",
   "execution_count": 2,
   "metadata": {},
   "outputs": [],
   "source": [
    "def add_num(num1,num2):\n",
    " return num1+num2"
   ]
  },
  {
   "cell_type": "code",
   "execution_count": 3,
   "metadata": {},
   "outputs": [
    {
     "data": {
      "text/plain": [
       "40"
      ]
     },
     "execution_count": 3,
     "metadata": {},
     "output_type": "execute_result"
    }
   ],
   "source": [
    "add_num(20,20)"
   ]
  },
  {
   "cell_type": "code",
   "execution_count": 4,
   "metadata": {},
   "outputs": [],
   "source": [
    "result = add_num(20,20)"
   ]
  },
  {
   "cell_type": "code",
   "execution_count": 5,
   "metadata": {},
   "outputs": [
    {
     "name": "stdout",
     "output_type": "stream",
     "text": [
      "40\n"
     ]
    }
   ],
   "source": [
    "print(result)"
   ]
  },
  {
   "cell_type": "markdown",
   "metadata": {},
   "source": [
    "#### Vamos passar por um exemplo completo, e criar uma função para verificar se um número é primo. Nós sabemos que um número para ser primo, isso somente acontece se ele for divisível em 1 e por si mesmo."
   ]
  },
  {
   "cell_type": "code",
   "execution_count": 10,
   "metadata": {},
   "outputs": [],
   "source": [
    "def is_prime(num):\n",
    " '''Método para chegar se um número pe primo\n",
    " '''\n",
    " for n in range(2,num):\n",
    "  if num % n == 0:\n",
    "   print('Não é primo')\n",
    "   break\n",
    "  else: # Se o módulo nunca for zero, é primo.\n",
    "    print('Primo')"
   ]
  },
  {
   "cell_type": "code",
   "execution_count": 11,
   "metadata": {
    "scrolled": true
   },
   "outputs": [
    {
     "name": "stdout",
     "output_type": "stream",
     "text": [
      "Não é primo\n"
     ]
    }
   ],
   "source": [
    "is_prime(16)"
   ]
  },
  {
   "cell_type": "markdown",
   "metadata": {},
   "source": [
    "#### Observe como quebramos o código após a declaração de impressão! Na verdade, podemos melhorar isso ao verificar somente a raiz quadradado número-alvo, também podemos ignorar todos os números pares depois de verificar 2. Também mudaremos para retornar um valor boleano para obter um exemplo de usar declaração de retorno:"
   ]
  },
  {
   "cell_type": "code",
   "execution_count": 14,
   "metadata": {},
   "outputs": [],
   "source": [
    "import math\n",
    "\n",
    "def is_prime(num):\n",
    "\n",
    "''' Melhor método para checar primos '''\n",
    "\n",
    " if num % 2 == 0 and num > 2:\n",
    "  return False\n",
    " for i in range(3, int(math.sqrt(num)) + 1, 2):\n",
    "  if num % i == 0:\n",
    "         return False\n",
    " return True"
   ]
  },
  {
   "cell_type": "code",
   "execution_count": 15,
   "metadata": {},
   "outputs": [
    {
     "data": {
      "text/plain": [
       "False"
      ]
     },
     "execution_count": 15,
     "metadata": {},
     "output_type": "execute_result"
    }
   ],
   "source": [
    "is_prime(10)\n"
   ]
  },
  {
   "cell_type": "code",
   "execution_count": 16,
   "metadata": {},
   "outputs": [
    {
     "data": {
      "text/plain": [
       "True"
      ]
     },
     "execution_count": 16,
     "metadata": {},
     "output_type": "execute_result"
    }
   ],
   "source": [
    "is_prime(3)"
   ]
  },
  {
   "cell_type": "code",
   "execution_count": 17,
   "metadata": {},
   "outputs": [
    {
     "data": {
      "text/plain": [
       "False"
      ]
     },
     "execution_count": 17,
     "metadata": {},
     "output_type": "execute_result"
    }
   ],
   "source": [
    "is_prime(14)"
   ]
  }
 ],
 "metadata": {
  "kernelspec": {
   "display_name": "Python 3",
   "language": "python",
   "name": "python3"
  },
  "language_info": {
   "codemirror_mode": {
    "name": "ipython",
    "version": 3
   },
   "file_extension": ".py",
   "mimetype": "text/x-python",
   "name": "python",
   "nbconvert_exporter": "python",
   "pygments_lexer": "ipython3",
   "version": "3.8.5"
  }
 },
 "nbformat": 4,
 "nbformat_minor": 4
}
