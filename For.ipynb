{
 "cells": [
  {
   "cell_type": "markdown",
   "metadata": {},
   "source": [
    "# <font color = \"gold\"> FOR"
   ]
  },
  {
   "cell_type": "markdown",
   "metadata": {},
   "source": [
    "#### Um loop for atua como um iterador em Python, ele passa por itens que estão em uma sequência ou qualquer outro item iterável. Os objetos que aprendemos até agora que podemos iterar incluem strings, listas, tuplas e até iteráveis embutidos em dicionários, como chaves ou valores."
   ]
  },
  {
   "cell_type": "markdown",
   "metadata": {},
   "source": [
    "#### O formato geral para um for loop em Python:\n",
    "\n",
    "### <font color = \"red\"> FOR item IN objeto:\n",
    "### <font color = \"red\">    fazer algo"
   ]
  },
  {
   "cell_type": "markdown",
   "metadata": {},
   "source": [
    "#### O nome da variável pode ser qualquer um, desde que esteja fazendo sentido para revisar o código, sendo assim, o nome do item pode ser referenciado dentro do loop, caso a utilização das instruções if sejam necessárias. "
   ]
  },
  {
   "cell_type": "code",
   "execution_count": 5,
   "metadata": {},
   "outputs": [],
   "source": [
    "# Iterando através de uma lista.\n",
    "\n",
    "lista_de_números = [1, 2, 3, 4, 5, 6, 7, 8, 9, 10]"
   ]
  },
  {
   "cell_type": "code",
   "execution_count": 6,
   "metadata": {},
   "outputs": [
    {
     "name": "stdout",
     "output_type": "stream",
     "text": [
      "1\n",
      "2\n",
      "3\n",
      "4\n",
      "5\n",
      "6\n",
      "7\n",
      "8\n",
      "9\n",
      "10\n"
     ]
    }
   ],
   "source": [
    "for números in lista_de_números:\n",
    " print(números)"
   ]
  },
  {
   "cell_type": "code",
   "execution_count": 8,
   "metadata": {},
   "outputs": [
    {
     "name": "stdout",
     "output_type": "stream",
     "text": [
      "[0, 1, 2, 3, 4, 5, 6, 7, 8, 9, 10]\n"
     ]
    }
   ],
   "source": [
    "# Para fins de compreenção da linguagem o nome da variável esta grande.\n",
    "\n",
    "# Criando uma sequência de 0 a 10 através do range e imprimindo em uma lista\n",
    "lista_de_10_elementos_numéricos = range(0,11,1)\n",
    "print(list(lista_de_10_elementos_numéricos))"
   ]
  },
  {
   "cell_type": "code",
   "execution_count": 10,
   "metadata": {},
   "outputs": [
    {
     "name": "stdout",
     "output_type": "stream",
     "text": [
      "0\n",
      "2\n",
      "4\n",
      "6\n",
      "8\n",
      "10\n"
     ]
    }
   ],
   "source": [
    "# Agora a partir da listas, verificaremos quais são os números pares.\n",
    "\n",
    "for num in lista_de_10_elementos_numéricos:\n",
    " if num % 2 == 0:\n",
    "  print(num)"
   ]
  },
  {
   "cell_type": "code",
   "execution_count": 11,
   "metadata": {},
   "outputs": [
    {
     "name": "stdout",
     "output_type": "stream",
     "text": [
      "1\n",
      "3\n",
      "5\n",
      "7\n",
      "9\n"
     ]
    }
   ],
   "source": [
    "# Utilizando o mesmo código acima, porém com apenas uma alteração, é possível verificar os numeros ímpares.\n",
    "\n",
    "for num in lista_de_10_elementos_numéricos:\n",
    " if num % 2 != 0:\n",
    "  print(num)"
   ]
  },
  {
   "cell_type": "code",
   "execution_count": 12,
   "metadata": {},
   "outputs": [
    {
     "name": "stdout",
     "output_type": "stream",
     "text": [
      "55\n"
     ]
    }
   ],
   "source": [
    "# Criando um loop for que resume (soma todos os elementos) a lista criada através de uma operação de adicão.\n",
    "\n",
    "Soma = 0\n",
    "    \n",
    "for num in lista_de_10_elementos_numéricos:\n",
    "    Soma = Soma + num\n",
    "\n",
    "print(Soma)"
   ]
  },
  {
   "cell_type": "code",
   "execution_count": 13,
   "metadata": {
    "scrolled": true
   },
   "outputs": [
    {
     "name": "stdout",
     "output_type": "stream",
     "text": [
      "E\n",
      "s\n",
      "t\n",
      "o\n",
      "u\n",
      " \n",
      "e\n",
      "s\n",
      "c\n",
      "r\n",
      "e\n",
      "v\n",
      "e\n",
      "n\n",
      "d\n",
      "o\n",
      " \n",
      "e\n",
      "m\n",
      " \n",
      "P\n",
      "y\n",
      "t\n",
      "h\n",
      "o\n",
      "n\n",
      " \n",
      "d\n",
      "e\n",
      " \n",
      "u\n",
      "m\n",
      "a\n",
      " \n",
      "f\n",
      "o\n",
      "r\n",
      "m\n",
      "a\n",
      " \n",
      "b\n",
      "a\n",
      "s\n",
      "t\n",
      "a\n",
      "n\n",
      "t\n",
      "e\n",
      " \n",
      "n\n",
      "a\n",
      "t\n",
      "u\n",
      "r\n",
      "a\n",
      "l\n",
      " \n",
      "e\n",
      " \n",
      "f\n",
      "l\n",
      "u\n",
      "í\n",
      "d\n",
      "a\n"
     ]
    }
   ],
   "source": [
    "# As strings são uma sequência de caracteres, e o mesmos podem ser manipulador através das iterações loop for.\n",
    "\n",
    "for letras in \"Estou escrevendo em Python de uma forma bastante natural e fluída\":\n",
    " print(letras)"
   ]
  },
  {
   "cell_type": "code",
   "execution_count": 14,
   "metadata": {},
   "outputs": [
    {
     "name": "stdout",
     "output_type": "stream",
     "text": [
      "1\n",
      "2\n",
      "3\n",
      "4\n",
      "5\n"
     ]
    }
   ],
   "source": [
    "# As mesmas iterações podem ocorrer com as tuplas.\n",
    "\n",
    "TP = (1,2,3,4,5)\n",
    "\n",
    "for t in TP:\n",
    " print(t)"
   ]
  },
  {
   "cell_type": "code",
   "execution_count": 15,
   "metadata": {},
   "outputs": [
    {
     "name": "stdout",
     "output_type": "stream",
     "text": [
      "(1, 2)\n",
      "(6, 8)\n",
      "(10, 12)\n"
     ]
    }
   ],
   "source": [
    "# As iterações em sequências de tuplas podem ser feitas por uma tupla, abaixo será mostrado o desembalamento de uma tupla.\n",
    "\n",
    "l = [(1,2), (6,8), (10,12)]\n",
    "\n",
    "for t in l:\n",
    "    print(t)"
   ]
  },
  {
   "cell_type": "code",
   "execution_count": 16,
   "metadata": {},
   "outputs": [
    {
     "name": "stdout",
     "output_type": "stream",
     "text": [
      "1\n",
      "6\n",
      "10\n"
     ]
    }
   ],
   "source": [
    "# O for permite iterar sequências de itens, é importante informar quais são essas sequências de itens que serão trabalhados.\n",
    "\n",
    "for (c1, c2) in l:\n",
    "    print(c1)"
   ]
  },
  {
   "cell_type": "markdown",
   "metadata": {},
   "source": [
    "#### <font color='red'> OBS: Com as tuplas em sequência podemos acessar os itens dentro delas por meio de desembalagem! A razão é porque muitos ojetos entregarão seus iteradores através de tuplas. Vamos começar a explorar a iteração através de Dicionários!"
   ]
  },
  {
   "cell_type": "code",
   "execution_count": 17,
   "metadata": {},
   "outputs": [
    {
     "name": "stdout",
     "output_type": "stream",
     "text": [
      "k1\n",
      "k2\n",
      "k3\n"
     ]
    }
   ],
   "source": [
    "d = {'k1': 1, 'k2': 2, 'k3':3}\n",
    "\n",
    "for item in d:\n",
    "    print(item)"
   ]
  },
  {
   "cell_type": "code",
   "execution_count": 18,
   "metadata": {},
   "outputs": [
    {
     "name": "stdout",
     "output_type": "stream",
     "text": [
      "1\n",
      "2\n",
      "3\n"
     ]
    }
   ],
   "source": [
    "# É possível imprimir as chaves e os valores e também apenas os valores se for necessário, porém é necessário utilizar items().\n",
    "\n",
    "for k,v in d.items():\n",
    "    print(v)"
   ]
  },
  {
   "cell_type": "code",
   "execution_count": 19,
   "metadata": {},
   "outputs": [
    {
     "name": "stdout",
     "output_type": "stream",
     "text": [
      "k1 1\n",
      "k2 2\n",
      "k3 3\n"
     ]
    }
   ],
   "source": [
    "# Imprimindo as chaves e os valores.\n",
    "\n",
    "for k,v in d.items():\n",
    "    print(k,v)\n",
    "   "
   ]
  },
  {
   "cell_type": "markdown",
   "metadata": {},
   "source": [
    "## <font color = 'gold'> EXERCÍCIOS"
   ]
  },
  {
   "cell_type": "code",
   "execution_count": 21,
   "metadata": {},
   "outputs": [
    {
     "name": "stdout",
     "output_type": "stream",
     "text": [
      "4\n",
      "8\n",
      "6\n",
      "54\n",
      "4\n",
      "0\n"
     ]
    }
   ],
   "source": [
    "# Dada a lista abaixo, imprima apenas os números pares.\n",
    "\n",
    "l = [1,4,5,67,7,8,6,54,4,3,1,21,1,9,0]\n",
    "\n",
    "for num in l:\n",
    "    if num % 2 == 0:\n",
    "     print(num)\n",
    "        "
   ]
  },
  {
   "cell_type": "code",
   "execution_count": 22,
   "metadata": {},
   "outputs": [
    {
     "name": "stdout",
     "output_type": "stream",
     "text": [
      "P\n",
      "y\n",
      "t\n",
      "h\n",
      "o\n",
      "n\n"
     ]
    }
   ],
   "source": [
    "# Usando a string \"Hello Python\", Imprima letra por letra apenas da palavra Python.\n",
    "\n",
    "F = \"Hello Python\"\n",
    "\n",
    "for caracter in F[6:]:\n",
    " print(caracter)\n",
    "        "
   ]
  }
 ],
 "metadata": {
  "kernelspec": {
   "display_name": "Python 3",
   "language": "python",
   "name": "python3"
  },
  "language_info": {
   "codemirror_mode": {
    "name": "ipython",
    "version": 3
   },
   "file_extension": ".py",
   "mimetype": "text/x-python",
   "name": "python",
   "nbconvert_exporter": "python",
   "pygments_lexer": "ipython3",
   "version": "3.8.5"
  }
 },
 "nbformat": 4,
 "nbformat_minor": 4
}
