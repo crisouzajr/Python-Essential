{
 "cells": [
  {
   "cell_type": "markdown",
   "metadata": {},
   "source": [
    "# <font color = 'gold'> If, Elif, Else"
   ]
  },
  {
   "cell_type": "markdown",
   "metadata": {},
   "source": [
    "#### <font color = 'red'> If em Python nos permite contar ao computador para executar ações alternativas com base em determinado conjunto de resultados. Verbalmente, podemos imaginar que estamos informando ao computador:\n",
    "#### <font color = 'red'>\"Se isso caso acontecer, execute alguma açao\". Podemos então expandir a ideia com declarações ELIF e ELSE, o que nos permite contar ao computador:\n",
    "#### <font color = 'red'>\"Se esse caso acontecer, execute alguma ação. Caso contrário, se aquilo acontecer, execute alguma outra ação. Caso contrário, se nenhum dos casos acima aconteceu, execute esta ação\". Segue a sintaxe:"
   ]
  },
  {
   "cell_type": "code",
   "execution_count": 1,
   "metadata": {},
   "outputs": [],
   "source": [
    "#         if case1:\n",
    " #            executar ação1\n",
    "#         elif case2:\n",
    " #            execute ação2\n",
    "#         else:\n",
    " #            execute a ação3"
   ]
  },
  {
   "cell_type": "markdown",
   "metadata": {},
   "source": [
    "## Exemplos"
   ]
  },
  {
   "cell_type": "code",
   "execution_count": 2,
   "metadata": {},
   "outputs": [
    {
     "name": "stdout",
     "output_type": "stream",
     "text": [
      "It was true\n"
     ]
    }
   ],
   "source": [
    "if True:\n",
    "    print('It was true')"
   ]
  },
  {
   "cell_type": "code",
   "execution_count": 3,
   "metadata": {},
   "outputs": [
    {
     "name": "stdout",
     "output_type": "stream",
     "text": [
      "I will be printed in any case where x is no true\n"
     ]
    }
   ],
   "source": [
    "x = False\n",
    "\n",
    "if x: \n",
    "    print('x was true!')\n",
    "else:\n",
    "    print('I will be printed in any case where x is no true')"
   ]
  },
  {
   "cell_type": "code",
   "execution_count": 4,
   "metadata": {},
   "outputs": [
    {
     "name": "stdout",
     "output_type": "stream",
     "text": [
      "x was true\n"
     ]
    }
   ],
   "source": [
    "x = False\n",
    "y = False\n",
    "\n",
    "if y==x:\n",
    "    print('x was true')\n",
    "else:\n",
    "    print('I will be printed in any case where x is not true')\n"
   ]
  },
  {
   "cell_type": "markdown",
   "metadata": {},
   "source": [
    "## Múltiplos Ramos"
   ]
  },
  {
   "cell_type": "code",
   "execution_count": 5,
   "metadata": {},
   "outputs": [
    {
     "name": "stdout",
     "output_type": "stream",
     "text": [
      "Now is great, I think you can write in the way you want\n"
     ]
    }
   ],
   "source": [
    "loc = 'Bank'\n",
    "\n",
    "if loc == 'Auto Shop':\n",
    "    print('welcome to the Auto shop')\n",
    "elif loc == \"casa\":\n",
    "    print(\"welcome to the Bank!\")\n",
    "elif loc == \"oi\":\n",
    "    print(\"not yet\")\n",
    "elif loc == 'Bank':\n",
    "    print(\"Now is great, I think you can write in the way you want\")\n",
    "else:\n",
    "    print('where are you?')"
   ]
  },
  {
   "cell_type": "code",
   "execution_count": 6,
   "metadata": {},
   "outputs": [
    {
     "name": "stdout",
     "output_type": "stream",
     "text": [
      "Welcome, What's your name?\n"
     ]
    }
   ],
   "source": [
    "# Criando outros exemplos para as afirmações if, elif e else:\n",
    "\n",
    "person = 'Sammy'\n",
    "\n",
    "if person == 'Sammye':\n",
    "    print('Welcome Sammy')\n",
    "else:\n",
    "    print(\"Welcome, What's your name?\")"
   ]
  },
  {
   "cell_type": "code",
   "execution_count": 7,
   "metadata": {},
   "outputs": [
    {
     "name": "stdout",
     "output_type": "stream",
     "text": [
      "Verify you ID\n"
     ]
    }
   ],
   "source": [
    "# A partir de novos exemplos utilizando os comparação entre nomes, é possível verificar a utilização das três declaração.\n",
    "\n",
    "person = 'Cris'\n",
    "\n",
    "if person == 'Cis':\n",
    "    print('Welcome Cis')\n",
    "elif person == 'Cri':\n",
    "    print('Welcome Cri')\n",
    "elif person == 'Aug':\n",
    "    print('Welcome Aug')\n",
    "else:\n",
    "    print('Verify you ID')"
   ]
  },
  {
   "cell_type": "markdown",
   "metadata": {},
   "source": [
    "## <font color = 'gold'> EXERCÍCIOS"
   ]
  },
  {
   "cell_type": "code",
   "execution_count": 8,
   "metadata": {},
   "outputs": [
    {
     "name": "stdout",
     "output_type": "stream",
     "text": [
      "Triângulo válido\n"
     ]
    }
   ],
   "source": [
    "# Escreva um programa tal que represente um triângulo válido, onde a soma de um de seus dois lados tem que ser sempre maior\n",
    "# ou igual ao terceiro lado, caso não seja, o triângulo é inválido.\n",
    "\n",
    "a = 3\n",
    "b = 6\n",
    "c = 9\n",
    "\n",
    "if (b + c >= a) and (a + c >= b) and (a + b >= c):\n",
    "    print('Triângulo válido')\n",
    "else:\n",
    "    print('Triângulo Inválido')"
   ]
  }
 ],
 "metadata": {
  "kernelspec": {
   "display_name": "Python 3",
   "language": "python",
   "name": "python3"
  },
  "language_info": {
   "codemirror_mode": {
    "name": "ipython",
    "version": 3
   },
   "file_extension": ".py",
   "mimetype": "text/x-python",
   "name": "python",
   "nbconvert_exporter": "python",
   "pygments_lexer": "ipython3",
   "version": "3.8.5"
  }
 },
 "nbformat": 4,
 "nbformat_minor": 4
}
