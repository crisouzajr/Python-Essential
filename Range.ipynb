{
 "cells": [
  {
   "cell_type": "markdown",
   "metadata": {},
   "source": [
    "# <font color = \"gold\" >  RANGE"
   ]
  },
  {
   "cell_type": "markdown",
   "metadata": {},
   "source": [
    "#### <font color = 'red'> range() nos permite criar uma sequência de números que variam de um ponto de partida até um ponto final. Também podemos especificar o tamanho do passo."
   ]
  },
  {
   "cell_type": "code",
   "execution_count": 1,
   "metadata": {},
   "outputs": [
    {
     "data": {
      "text/plain": [
       "range(0, 10)"
      ]
     },
     "execution_count": 1,
     "metadata": {},
     "output_type": "execute_result"
    }
   ],
   "source": [
    "# Utilizando a função range()\n",
    "\n",
    "range(0,10)"
   ]
  },
  {
   "cell_type": "markdown",
   "metadata": {},
   "source": [
    "#### É observado que não produziu a lista. Isso acontece porque devemos informar ao python que queremos o range() seja convertido em uma lista. Podemos utilizar a função list() para fazer isso, e agora então a lista será criada."
   ]
  },
  {
   "cell_type": "code",
   "execution_count": 2,
   "metadata": {},
   "outputs": [
    {
     "data": {
      "text/plain": [
       "[0, 1, 2, 3, 4, 5, 6, 7, 8, 9]"
      ]
     },
     "execution_count": 2,
     "metadata": {},
     "output_type": "execute_result"
    }
   ],
   "source": [
    "# Para criar uma lista com uma sequência de números determinada.\n",
    "\n",
    "list(range(0,10))\n",
    "\n",
    "# Perceba que a lista criada contém 10 elementos contabilizando o número zero."
   ]
  },
  {
   "cell_type": "code",
   "execution_count": 3,
   "metadata": {},
   "outputs": [
    {
     "data": {
      "text/plain": [
       "(10, 11, 12, 13, 14, 15, 16, 17, 18, 19, 20, 21, 22, 23, 24)"
      ]
     },
     "execution_count": 3,
     "metadata": {},
     "output_type": "execute_result"
    }
   ],
   "source": [
    "# Também é possível criar uma tupla ao invés de criar uma lista.\n",
    "\n",
    "r = range(10,25)\n",
    "\n",
    "tuple(r)"
   ]
  },
  {
   "cell_type": "code",
   "execution_count": 11,
   "metadata": {},
   "outputs": [
    {
     "data": {
      "text/plain": [
       "(10, 14, 18, 22)"
      ]
     },
     "execution_count": 11,
     "metadata": {},
     "output_type": "execute_result"
    }
   ],
   "source": [
    "# Também é possível especificar o tamanho do espaçamento entre o elementos dentro do range\n",
    "\n",
    "r = range(10,25,4)\n",
    "\n",
    "tuple(r)"
   ]
  },
  {
   "cell_type": "code",
   "execution_count": 35,
   "metadata": {},
   "outputs": [
    {
     "name": "stdout",
     "output_type": "stream",
     "text": [
      "0\n",
      "1\n",
      "2\n",
      "3\n",
      "4\n",
      "5\n",
      "6\n",
      "7\n",
      "8\n",
      "9\n"
     ]
    }
   ],
   "source": [
    "# Uma grande vantagem dentro da função range() é que o for pode ser iterado com a mesma.\n",
    "\n",
    "for i in range(0,10):\n",
    "\n",
    " print(i)"
   ]
  },
  {
   "cell_type": "markdown",
   "metadata": {},
   "source": [
    "# <font color = \"gold\"> EXERCÍCIOS"
   ]
  },
  {
   "cell_type": "code",
   "execution_count": 63,
   "metadata": {},
   "outputs": [
    {
     "name": "stdout",
     "output_type": "stream",
     "text": [
      "3 - Fizz\n",
      "5 - Buzz\n",
      "6 - Fizz\n",
      "9 - Fizz\n",
      "10 - Buzz\n",
      "12 - Fizz\n",
      "15 - Fizz\n",
      "15 - Buzz\n",
      "15 - FizzBuzz\n",
      "18 - Fizz\n",
      "20 - Buzz\n",
      "21 - Fizz\n",
      "24 - Fizz\n",
      "25 - Buzz\n",
      "27 - Fizz\n",
      "30 - Fizz\n",
      "30 - Buzz\n",
      "30 - FizzBuzz\n",
      "33 - Fizz\n",
      "35 - Buzz\n",
      "36 - Fizz\n",
      "39 - Fizz\n",
      "40 - Buzz\n",
      "42 - Fizz\n",
      "45 - Fizz\n",
      "45 - Buzz\n",
      "45 - FizzBuzz\n",
      "48 - Fizz\n",
      "50 - Buzz\n"
     ]
    }
   ],
   "source": [
    "# Escreve um programa que imprima os números inteiros de 1 a 50. \n",
    "# Para múltiplos de três imprima \"Fizz\" na frente do número\n",
    "# Para múltiplos de cinco imprima \"Buzz\"\n",
    "# E caso o número seja múltiplo tanto de 3 quanto de 5, imprima \"FizzBuzz\".\n",
    "\n",
    "\n",
    "for r in range(1,51):\n",
    "    if r % 3 == 0:\n",
    "        print((r), ('- Fizz'))\n",
    "    if r % 5 == 0:\n",
    "        print((r),('- Buzz'))\n",
    "    if r % 5 == 0 and r % 3 == 0:\n",
    "        print ((r),(\"- FizzBuzz\"))\n"
   ]
  }
 ],
 "metadata": {
  "kernelspec": {
   "display_name": "Python 3",
   "language": "python",
   "name": "python3"
  },
  "language_info": {
   "codemirror_mode": {
    "name": "ipython",
    "version": 3
   },
   "file_extension": ".py",
   "mimetype": "text/x-python",
   "name": "python",
   "nbconvert_exporter": "python",
   "pygments_lexer": "ipython3",
   "version": "3.8.5"
  }
 },
 "nbformat": 4,
 "nbformat_minor": 4
}
