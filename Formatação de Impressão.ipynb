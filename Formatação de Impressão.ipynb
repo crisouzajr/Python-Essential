{
 "cells": [
  {
   "cell_type": "markdown",
   "metadata": {},
   "source": [
    "# <font color = \"gold\"> Formatação de Impressão "
   ]
  },
  {
   "cell_type": "markdown",
   "metadata": {},
   "source": [
    "#### <font color = \"red\">  Nessa seção, abordaremos brevemente as várias maneiras de formatar suas declarações impressas. \n",
    "#### <font color = \"red\"> À medida que se codifica mais e mais, desejamos ter declarações de impressão que possam incluir uma variável e uma declaração de string impressa. "
   ]
  },
  {
   "cell_type": "markdown",
   "metadata": {},
   "source": [
    "## STRING - Podemos usar o %s para formatar strings em suas instruções de impressão."
   ]
  },
  {
   "cell_type": "code",
   "execution_count": 1,
   "metadata": {},
   "outputs": [
    {
     "name": "stdout",
     "output_type": "stream",
     "text": [
      "This is a new song for me: If God will send His Angels\n"
     ]
    }
   ],
   "source": [
    "U2 = 'If God will send His Angels'\n",
    "print('This is a new song for me: %s' %(U2))"
   ]
  },
  {
   "cell_type": "markdown",
   "metadata": {},
   "source": [
    "## Números de Ponto Flutuante.\n",
    "\n",
    "#### Os números de ponto flutuante usam o formato [ %n1.n2f ], onde n1 é o número mínimo total de dígitos que a cadeia deve conter (estes podem ser preenchidos com espaços em branco se o número inteiro não tiver esses muitos dígitos. O espaço resevado n2 significa quantos números para mostrar após o ponto decimal."
   ]
  },
  {
   "cell_type": "code",
   "execution_count": 2,
   "metadata": {},
   "outputs": [
    {
     "name": "stdout",
     "output_type": "stream",
     "text": [
      "Float point number: 13.14\n"
     ]
    }
   ],
   "source": [
    "print('Float point number: %1.2f' %(13.144))"
   ]
  },
  {
   "cell_type": "code",
   "execution_count": 3,
   "metadata": {},
   "outputs": [
    {
     "name": "stdout",
     "output_type": "stream",
     "text": [
      "Floating point number: 13\n"
     ]
    }
   ],
   "source": [
    "print('Floating point number: %1.0f' %(13.144))"
   ]
  },
  {
   "cell_type": "code",
   "execution_count": 4,
   "metadata": {},
   "outputs": [
    {
     "name": "stdout",
     "output_type": "stream",
     "text": [
      "Floating point number: 13.14400\n"
     ]
    }
   ],
   "source": [
    "print('Floating point number: %1.5f' %(13.144))"
   ]
  },
  {
   "cell_type": "code",
   "execution_count": 5,
   "metadata": {},
   "outputs": [
    {
     "name": "stdout",
     "output_type": "stream",
     "text": [
      "Floating point number:      13.14\n"
     ]
    }
   ],
   "source": [
    "print('Floating point number: %10.2f' %(13.144))"
   ]
  },
  {
   "cell_type": "code",
   "execution_count": 6,
   "metadata": {},
   "outputs": [
    {
     "name": "stdout",
     "output_type": "stream",
     "text": [
      "Floating point number:                     13.14\n"
     ]
    }
   ],
   "source": [
    "print('Floating point number: %25.2f' %(13.144))"
   ]
  },
  {
   "cell_type": "markdown",
   "metadata": {},
   "source": [
    "## Métodos de formato de conversão.\n",
    "\n",
    "#### Deve-se notar que os dois métodos %s e %r realmente convertem quase qualquer objeto Python em uma String usando dois métodos separados: str() e repr():"
   ]
  },
  {
   "cell_type": "code",
   "execution_count": 12,
   "metadata": {},
   "outputs": [
    {
     "name": "stdout",
     "output_type": "stream",
     "text": [
      "Here is a floar: 123.1. Here is a string: hi\n"
     ]
    }
   ],
   "source": [
    "print('Here is a floar: %s. Here is a string: %s' %(123.1,'hi'))"
   ]
  },
  {
   "cell_type": "code",
   "execution_count": 11,
   "metadata": {},
   "outputs": [
    {
     "name": "stdout",
     "output_type": "stream",
     "text": [
      "Here is a float: 123.1. Here is a string: 'hi'\n"
     ]
    }
   ],
   "source": [
    "print('Here is a float: %r. Here is a string: %r' %(123.1, 'hi'))"
   ]
  },
  {
   "cell_type": "markdown",
   "metadata": {},
   "source": [
    "## Formatação Múltipla\n",
    "\n",
    "#### Passe uma tupla para junto com o símbolo do módulo para colocar vários formatos nas suas declarações de impressão:"
   ]
  },
  {
   "cell_type": "code",
   "execution_count": 13,
   "metadata": {},
   "outputs": [
    {
     "name": "stdout",
     "output_type": "stream",
     "text": [
      "First: hi, Second 3.14, Third: 22\n"
     ]
    }
   ],
   "source": [
    "print('First: %s, Second %1.2f, Third: %r' %('hi',3.14, 22))"
   ]
  },
  {
   "cell_type": "markdown",
   "metadata": {},
   "source": [
    "## Usando o método string.format()\n",
    "\n",
    "#### A melhor maneira de formatar objetos em suas strings para instruções de impressão é usar o método format(). A sintaxe é:\n",
    "#### 'String aqui {var1} e também {var2}'.format(var1 = 'alguma coisa 1', var2 = 'alguma coisa2')"
   ]
  },
  {
   "cell_type": "code",
   "execution_count": 14,
   "metadata": {},
   "outputs": [
    {
     "name": "stdout",
     "output_type": "stream",
     "text": [
      "This is a string with an insert\n"
     ]
    }
   ],
   "source": [
    "print('This is a string with an {p}'.format(p='insert'))"
   ]
  },
  {
   "cell_type": "code",
   "execution_count": 15,
   "metadata": {},
   "outputs": [
    {
     "name": "stdout",
     "output_type": "stream",
     "text": [
      "One: hi!, Two: hi!, Three: hi!\n"
     ]
    }
   ],
   "source": [
    "print('One: {p}, Two: {p}, Three: {p}'.format(p='hi!'))"
   ]
  },
  {
   "cell_type": "code",
   "execution_count": 16,
   "metadata": {},
   "outputs": [
    {
     "name": "stdout",
     "output_type": "stream",
     "text": [
      "Object 1: 1, Object 2: two, Object: 12.3\n"
     ]
    }
   ],
   "source": [
    "print('Object 1: {a}, Object 2: {b}, Object: {c}'.format(a= 1, b='two', c= 12.3))"
   ]
  },
  {
   "cell_type": "code",
   "execution_count": 17,
   "metadata": {},
   "outputs": [
    {
     "name": "stdout",
     "output_type": "stream",
     "text": [
      "O diâmetro da Terra é de 12742 Kilômetros\n"
     ]
    }
   ],
   "source": [
    "# Dada as variáveis:\n",
    "\n",
    "Planeta = \"Terra\"\n",
    "Diâmetro = 12742\n",
    "\n",
    "# Use format() para printar a seguinte frase: O diâmetro da Terra é 12742 kilômetros.\n",
    "    \n",
    "print('O diâmetro da {Planeta} é de {Diâmetro} Kilômetros'.format(Planeta = 'Terra', Diâmetro = 12742))"
   ]
  }
 ],
 "metadata": {
  "kernelspec": {
   "display_name": "Python 3",
   "language": "python",
   "name": "python3"
  },
  "language_info": {
   "codemirror_mode": {
    "name": "ipython",
    "version": 3
   },
   "file_extension": ".py",
   "mimetype": "text/x-python",
   "name": "python",
   "nbconvert_exporter": "python",
   "pygments_lexer": "ipython3",
   "version": "3.8.5"
  }
 },
 "nbformat": 4,
 "nbformat_minor": 4
}
